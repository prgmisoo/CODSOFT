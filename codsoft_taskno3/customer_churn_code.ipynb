{
 "cells": [
  {
   "cell_type": "code",
   "execution_count": 1,
   "id": "c4d1fc5a-a20a-457d-9666-a2b779a176e8",
   "metadata": {},
   "outputs": [],
   "source": [
    "import numpy as np \n",
    "import pandas as pd \n",
    "\n",
    "import os\n",
    "for dirname, _, filenames in os.walk('/D//python jupyter'):\n",
    "    for filename in filenames:\n",
    "        print(os.path.join(dirname, filename))"
   ]
  },
  {
   "cell_type": "code",
   "execution_count": 2,
   "id": "e52e8198-f36b-4293-ad75-727d8314efec",
   "metadata": {},
   "outputs": [],
   "source": [
    "df = pd.read_csv(\"D:\\python jupyter\\Churn_Modelling.csv\")"
   ]
  },
  {
   "cell_type": "code",
   "execution_count": 3,
   "id": "35a92ad8-3968-490a-9559-2f564b872963",
   "metadata": {},
   "outputs": [
    {
     "data": {
      "text/html": [
       "<div>\n",
       "<style scoped>\n",
       "    .dataframe tbody tr th:only-of-type {\n",
       "        vertical-align: middle;\n",
       "    }\n",
       "\n",
       "    .dataframe tbody tr th {\n",
       "        vertical-align: top;\n",
       "    }\n",
       "\n",
       "    .dataframe thead th {\n",
       "        text-align: right;\n",
       "    }\n",
       "</style>\n",
       "<table border=\"1\" class=\"dataframe\">\n",
       "  <thead>\n",
       "    <tr style=\"text-align: right;\">\n",
       "      <th></th>\n",
       "      <th>RowNumber</th>\n",
       "      <th>CustomerId</th>\n",
       "      <th>Surname</th>\n",
       "      <th>CreditScore</th>\n",
       "      <th>Geography</th>\n",
       "      <th>Gender</th>\n",
       "      <th>Age</th>\n",
       "      <th>Tenure</th>\n",
       "      <th>Balance</th>\n",
       "      <th>NumOfProducts</th>\n",
       "      <th>HasCrCard</th>\n",
       "      <th>IsActiveMember</th>\n",
       "      <th>EstimatedSalary</th>\n",
       "      <th>Exited</th>\n",
       "    </tr>\n",
       "  </thead>\n",
       "  <tbody>\n",
       "    <tr>\n",
       "      <th>0</th>\n",
       "      <td>1</td>\n",
       "      <td>15634602</td>\n",
       "      <td>Hargrave</td>\n",
       "      <td>619</td>\n",
       "      <td>France</td>\n",
       "      <td>Female</td>\n",
       "      <td>42</td>\n",
       "      <td>2</td>\n",
       "      <td>0.00</td>\n",
       "      <td>1</td>\n",
       "      <td>1</td>\n",
       "      <td>1</td>\n",
       "      <td>101348.88</td>\n",
       "      <td>1</td>\n",
       "    </tr>\n",
       "    <tr>\n",
       "      <th>1</th>\n",
       "      <td>2</td>\n",
       "      <td>15647311</td>\n",
       "      <td>Hill</td>\n",
       "      <td>608</td>\n",
       "      <td>Spain</td>\n",
       "      <td>Female</td>\n",
       "      <td>41</td>\n",
       "      <td>1</td>\n",
       "      <td>83807.86</td>\n",
       "      <td>1</td>\n",
       "      <td>0</td>\n",
       "      <td>1</td>\n",
       "      <td>112542.58</td>\n",
       "      <td>0</td>\n",
       "    </tr>\n",
       "    <tr>\n",
       "      <th>2</th>\n",
       "      <td>3</td>\n",
       "      <td>15619304</td>\n",
       "      <td>Onio</td>\n",
       "      <td>502</td>\n",
       "      <td>France</td>\n",
       "      <td>Female</td>\n",
       "      <td>42</td>\n",
       "      <td>8</td>\n",
       "      <td>159660.80</td>\n",
       "      <td>3</td>\n",
       "      <td>1</td>\n",
       "      <td>0</td>\n",
       "      <td>113931.57</td>\n",
       "      <td>1</td>\n",
       "    </tr>\n",
       "    <tr>\n",
       "      <th>3</th>\n",
       "      <td>4</td>\n",
       "      <td>15701354</td>\n",
       "      <td>Boni</td>\n",
       "      <td>699</td>\n",
       "      <td>France</td>\n",
       "      <td>Female</td>\n",
       "      <td>39</td>\n",
       "      <td>1</td>\n",
       "      <td>0.00</td>\n",
       "      <td>2</td>\n",
       "      <td>0</td>\n",
       "      <td>0</td>\n",
       "      <td>93826.63</td>\n",
       "      <td>0</td>\n",
       "    </tr>\n",
       "    <tr>\n",
       "      <th>4</th>\n",
       "      <td>5</td>\n",
       "      <td>15737888</td>\n",
       "      <td>Mitchell</td>\n",
       "      <td>850</td>\n",
       "      <td>Spain</td>\n",
       "      <td>Female</td>\n",
       "      <td>43</td>\n",
       "      <td>2</td>\n",
       "      <td>125510.82</td>\n",
       "      <td>1</td>\n",
       "      <td>1</td>\n",
       "      <td>1</td>\n",
       "      <td>79084.10</td>\n",
       "      <td>0</td>\n",
       "    </tr>\n",
       "  </tbody>\n",
       "</table>\n",
       "</div>"
      ],
      "text/plain": [
       "   RowNumber  CustomerId   Surname  CreditScore Geography  Gender  Age  \\\n",
       "0          1    15634602  Hargrave          619    France  Female   42   \n",
       "1          2    15647311      Hill          608     Spain  Female   41   \n",
       "2          3    15619304      Onio          502    France  Female   42   \n",
       "3          4    15701354      Boni          699    France  Female   39   \n",
       "4          5    15737888  Mitchell          850     Spain  Female   43   \n",
       "\n",
       "   Tenure    Balance  NumOfProducts  HasCrCard  IsActiveMember  \\\n",
       "0       2       0.00              1          1               1   \n",
       "1       1   83807.86              1          0               1   \n",
       "2       8  159660.80              3          1               0   \n",
       "3       1       0.00              2          0               0   \n",
       "4       2  125510.82              1          1               1   \n",
       "\n",
       "   EstimatedSalary  Exited  \n",
       "0        101348.88       1  \n",
       "1        112542.58       0  \n",
       "2        113931.57       1  \n",
       "3         93826.63       0  \n",
       "4         79084.10       0  "
      ]
     },
     "execution_count": 3,
     "metadata": {},
     "output_type": "execute_result"
    }
   ],
   "source": [
    "df.head()"
   ]
  },
  {
   "cell_type": "code",
   "execution_count": 4,
   "id": "05c0964d-10b5-462f-95ea-28fc0e2278c7",
   "metadata": {},
   "outputs": [],
   "source": [
    "df.drop(columns = ['CustomerId','Surname','RowNumber'],inplace=True)"
   ]
  },
  {
   "cell_type": "code",
   "execution_count": 5,
   "id": "84ac6ebc-186d-422a-afc4-2a72b3404ce8",
   "metadata": {},
   "outputs": [
    {
     "data": {
      "text/plain": [
       "Geography\n",
       "France     5014\n",
       "Germany    2509\n",
       "Spain      2477\n",
       "Name: count, dtype: int64"
      ]
     },
     "execution_count": 5,
     "metadata": {},
     "output_type": "execute_result"
    }
   ],
   "source": [
    "df['Geography'].value_counts()"
   ]
  },
  {
   "cell_type": "code",
   "execution_count": 6,
   "id": "b82085f6-57bc-482a-838c-2c6ecdfd28bb",
   "metadata": {},
   "outputs": [
    {
     "data": {
      "text/plain": [
       "Gender\n",
       "Male      5457\n",
       "Female    4543\n",
       "Name: count, dtype: int64"
      ]
     },
     "execution_count": 6,
     "metadata": {},
     "output_type": "execute_result"
    }
   ],
   "source": [
    "df['Gender'].value_counts()"
   ]
  },
  {
   "cell_type": "code",
   "execution_count": 7,
   "id": "94f5adb2-ab17-44b8-b30c-0b73e1052fdf",
   "metadata": {},
   "outputs": [],
   "source": [
    "df = pd.get_dummies(df,columns=['Geography','Gender'],drop_first=True)"
   ]
  },
  {
   "cell_type": "code",
   "execution_count": 8,
   "id": "79fbb15c-234d-4ca3-af15-18b5ad15b07e",
   "metadata": {},
   "outputs": [
    {
     "data": {
      "text/html": [
       "<div>\n",
       "<style scoped>\n",
       "    .dataframe tbody tr th:only-of-type {\n",
       "        vertical-align: middle;\n",
       "    }\n",
       "\n",
       "    .dataframe tbody tr th {\n",
       "        vertical-align: top;\n",
       "    }\n",
       "\n",
       "    .dataframe thead th {\n",
       "        text-align: right;\n",
       "    }\n",
       "</style>\n",
       "<table border=\"1\" class=\"dataframe\">\n",
       "  <thead>\n",
       "    <tr style=\"text-align: right;\">\n",
       "      <th></th>\n",
       "      <th>CreditScore</th>\n",
       "      <th>Age</th>\n",
       "      <th>Tenure</th>\n",
       "      <th>Balance</th>\n",
       "      <th>NumOfProducts</th>\n",
       "      <th>HasCrCard</th>\n",
       "      <th>IsActiveMember</th>\n",
       "      <th>EstimatedSalary</th>\n",
       "      <th>Exited</th>\n",
       "      <th>Geography_Germany</th>\n",
       "      <th>Geography_Spain</th>\n",
       "      <th>Gender_Male</th>\n",
       "    </tr>\n",
       "  </thead>\n",
       "  <tbody>\n",
       "    <tr>\n",
       "      <th>0</th>\n",
       "      <td>619</td>\n",
       "      <td>42</td>\n",
       "      <td>2</td>\n",
       "      <td>0.00</td>\n",
       "      <td>1</td>\n",
       "      <td>1</td>\n",
       "      <td>1</td>\n",
       "      <td>101348.88</td>\n",
       "      <td>1</td>\n",
       "      <td>False</td>\n",
       "      <td>False</td>\n",
       "      <td>False</td>\n",
       "    </tr>\n",
       "    <tr>\n",
       "      <th>1</th>\n",
       "      <td>608</td>\n",
       "      <td>41</td>\n",
       "      <td>1</td>\n",
       "      <td>83807.86</td>\n",
       "      <td>1</td>\n",
       "      <td>0</td>\n",
       "      <td>1</td>\n",
       "      <td>112542.58</td>\n",
       "      <td>0</td>\n",
       "      <td>False</td>\n",
       "      <td>True</td>\n",
       "      <td>False</td>\n",
       "    </tr>\n",
       "    <tr>\n",
       "      <th>2</th>\n",
       "      <td>502</td>\n",
       "      <td>42</td>\n",
       "      <td>8</td>\n",
       "      <td>159660.80</td>\n",
       "      <td>3</td>\n",
       "      <td>1</td>\n",
       "      <td>0</td>\n",
       "      <td>113931.57</td>\n",
       "      <td>1</td>\n",
       "      <td>False</td>\n",
       "      <td>False</td>\n",
       "      <td>False</td>\n",
       "    </tr>\n",
       "    <tr>\n",
       "      <th>3</th>\n",
       "      <td>699</td>\n",
       "      <td>39</td>\n",
       "      <td>1</td>\n",
       "      <td>0.00</td>\n",
       "      <td>2</td>\n",
       "      <td>0</td>\n",
       "      <td>0</td>\n",
       "      <td>93826.63</td>\n",
       "      <td>0</td>\n",
       "      <td>False</td>\n",
       "      <td>False</td>\n",
       "      <td>False</td>\n",
       "    </tr>\n",
       "    <tr>\n",
       "      <th>4</th>\n",
       "      <td>850</td>\n",
       "      <td>43</td>\n",
       "      <td>2</td>\n",
       "      <td>125510.82</td>\n",
       "      <td>1</td>\n",
       "      <td>1</td>\n",
       "      <td>1</td>\n",
       "      <td>79084.10</td>\n",
       "      <td>0</td>\n",
       "      <td>False</td>\n",
       "      <td>True</td>\n",
       "      <td>False</td>\n",
       "    </tr>\n",
       "  </tbody>\n",
       "</table>\n",
       "</div>"
      ],
      "text/plain": [
       "   CreditScore  Age  Tenure    Balance  NumOfProducts  HasCrCard  \\\n",
       "0          619   42       2       0.00              1          1   \n",
       "1          608   41       1   83807.86              1          0   \n",
       "2          502   42       8  159660.80              3          1   \n",
       "3          699   39       1       0.00              2          0   \n",
       "4          850   43       2  125510.82              1          1   \n",
       "\n",
       "   IsActiveMember  EstimatedSalary  Exited  Geography_Germany  \\\n",
       "0               1        101348.88       1              False   \n",
       "1               1        112542.58       0              False   \n",
       "2               0        113931.57       1              False   \n",
       "3               0         93826.63       0              False   \n",
       "4               1         79084.10       0              False   \n",
       "\n",
       "   Geography_Spain  Gender_Male  \n",
       "0            False        False  \n",
       "1             True        False  \n",
       "2            False        False  \n",
       "3            False        False  \n",
       "4             True        False  "
      ]
     },
     "execution_count": 8,
     "metadata": {},
     "output_type": "execute_result"
    }
   ],
   "source": [
    "df.head()"
   ]
  },
  {
   "cell_type": "code",
   "execution_count": 9,
   "id": "d9da9546-607f-48df-98f6-306e44e6113d",
   "metadata": {},
   "outputs": [],
   "source": [
    "X = df.drop(columns=['Exited'])\n",
    "y = df['Exited']"
   ]
  },
  {
   "cell_type": "code",
   "execution_count": 10,
   "id": "d5da7ed6-5d09-4f80-b19e-63a9c90c2d12",
   "metadata": {},
   "outputs": [
    {
     "data": {
      "text/plain": [
       "(10000, 11)"
      ]
     },
     "execution_count": 10,
     "metadata": {},
     "output_type": "execute_result"
    }
   ],
   "source": [
    "X.shape"
   ]
  },
  {
   "cell_type": "code",
   "execution_count": 11,
   "id": "d7ffe103-d3cb-4bd4-aac9-27b02dd32b61",
   "metadata": {},
   "outputs": [],
   "source": [
    "from sklearn.model_selection import train_test_split\n",
    "X_train, X_test, y_train, y_test = train_test_split(X, y, test_size=0.2, random_state=0)"
   ]
  },
  {
   "cell_type": "code",
   "execution_count": 12,
   "id": "ffc20240-9f80-41a3-aafd-2e49698091fd",
   "metadata": {},
   "outputs": [
    {
     "data": {
      "text/plain": [
       "(8000, 11)"
      ]
     },
     "execution_count": 12,
     "metadata": {},
     "output_type": "execute_result"
    }
   ],
   "source": [
    "X_train.shape"
   ]
  },
  {
   "cell_type": "code",
   "execution_count": 13,
   "id": "aadb618e-700a-406e-8812-6685d75e2122",
   "metadata": {},
   "outputs": [],
   "source": [
    "from sklearn.preprocessing import StandardScaler\n",
    "scaler = StandardScaler()\n",
    "\n",
    "X_train_trf = scaler.fit_transform(X_train)\n",
    "X_test_trf = scaler.fit_transform(X_test)"
   ]
  },
  {
   "cell_type": "code",
   "execution_count": 14,
   "id": "58a9af61-bc42-4984-aa05-691f51a39e5d",
   "metadata": {},
   "outputs": [
    {
     "name": "stdout",
     "output_type": "stream",
     "text": [
      "WARNING:tensorflow:From C:\\Users\\PRADNYA\\AppData\\Local\\Programs\\Python\\Python311\\Lib\\site-packages\\keras\\src\\losses.py:2976: The name tf.losses.sparse_softmax_cross_entropy is deprecated. Please use tf.compat.v1.losses.sparse_softmax_cross_entropy instead.\n",
      "\n"
     ]
    }
   ],
   "source": [
    "import tensorflow\n",
    "from tensorflow import keras\n",
    "from tensorflow.keras import Sequential\n",
    "from tensorflow.keras.layers import Dense "
   ]
  },
  {
   "cell_type": "code",
   "execution_count": 15,
   "id": "dea6b9d9-4bae-4ab9-830d-3244dbdc65ce",
   "metadata": {},
   "outputs": [
    {
     "name": "stdout",
     "output_type": "stream",
     "text": [
      "WARNING:tensorflow:From C:\\Users\\PRADNYA\\AppData\\Local\\Programs\\Python\\Python311\\Lib\\site-packages\\keras\\src\\backend.py:873: The name tf.get_default_graph is deprecated. Please use tf.compat.v1.get_default_graph instead.\n",
      "\n"
     ]
    }
   ],
   "source": [
    "model = Sequential()\n",
    "model.add(Dense(11,activation='sigmoid',input_dim=11))\n",
    "model.add(Dense(11,activation='sigmoid'))\n",
    "model.add(Dense(1,activation='sigmoid'))"
   ]
  },
  {
   "cell_type": "code",
   "execution_count": 16,
   "id": "eab7d2e4-4a4e-440f-a3ab-2132a384a986",
   "metadata": {},
   "outputs": [
    {
     "name": "stdout",
     "output_type": "stream",
     "text": [
      "Model: \"sequential\"\n",
      "_________________________________________________________________\n",
      " Layer (type)                Output Shape              Param #   \n",
      "=================================================================\n",
      " dense (Dense)               (None, 11)                132       \n",
      "                                                                 \n",
      " dense_1 (Dense)             (None, 11)                132       \n",
      "                                                                 \n",
      " dense_2 (Dense)             (None, 1)                 12        \n",
      "                                                                 \n",
      "=================================================================\n",
      "Total params: 276 (1.08 KB)\n",
      "Trainable params: 276 (1.08 KB)\n",
      "Non-trainable params: 0 (0.00 Byte)\n",
      "_________________________________________________________________\n"
     ]
    }
   ],
   "source": [
    "model.summary()"
   ]
  },
  {
   "cell_type": "code",
   "execution_count": 17,
   "id": "f9d11750-5f4f-4806-b198-c475ee34de03",
   "metadata": {},
   "outputs": [
    {
     "name": "stdout",
     "output_type": "stream",
     "text": [
      "WARNING:tensorflow:From C:\\Users\\PRADNYA\\AppData\\Local\\Programs\\Python\\Python311\\Lib\\site-packages\\keras\\src\\optimizers\\__init__.py:309: The name tf.train.Optimizer is deprecated. Please use tf.compat.v1.train.Optimizer instead.\n",
      "\n"
     ]
    }
   ],
   "source": [
    "model.compile(optimizer='Adam',loss='binary_crossentropy',metrics=['accuracy'])"
   ]
  },
  {
   "cell_type": "code",
   "execution_count": 18,
   "id": "b2c61b40-365b-4ccb-b607-1ce1df54a433",
   "metadata": {},
   "outputs": [
    {
     "name": "stdout",
     "output_type": "stream",
     "text": [
      "Epoch 1/100\n",
      "WARNING:tensorflow:From C:\\Users\\PRADNYA\\AppData\\Local\\Programs\\Python\\Python311\\Lib\\site-packages\\keras\\src\\utils\\tf_utils.py:492: The name tf.ragged.RaggedTensorValue is deprecated. Please use tf.compat.v1.ragged.RaggedTensorValue instead.\n",
      "\n",
      "WARNING:tensorflow:From C:\\Users\\PRADNYA\\AppData\\Local\\Programs\\Python\\Python311\\Lib\\site-packages\\keras\\src\\engine\\base_layer_utils.py:384: The name tf.executing_eagerly_outside_functions is deprecated. Please use tf.compat.v1.executing_eagerly_outside_functions instead.\n",
      "\n",
      "128/128 [==============================] - 2s 5ms/step - loss: 0.5356 - accuracy: 0.7958 - val_loss: 0.4982 - val_accuracy: 0.7969\n",
      "Epoch 2/100\n",
      "128/128 [==============================] - 0s 3ms/step - loss: 0.4922 - accuracy: 0.7958 - val_loss: 0.4861 - val_accuracy: 0.7969\n",
      "Epoch 3/100\n",
      "128/128 [==============================] - 0s 4ms/step - loss: 0.4806 - accuracy: 0.7958 - val_loss: 0.4748 - val_accuracy: 0.7969\n",
      "Epoch 4/100\n",
      "128/128 [==============================] - 0s 3ms/step - loss: 0.4684 - accuracy: 0.7958 - val_loss: 0.4627 - val_accuracy: 0.7969\n",
      "Epoch 5/100\n",
      "128/128 [==============================] - 0s 3ms/step - loss: 0.4558 - accuracy: 0.7958 - val_loss: 0.4518 - val_accuracy: 0.7969\n",
      "Epoch 6/100\n",
      "128/128 [==============================] - 0s 3ms/step - loss: 0.4451 - accuracy: 0.7962 - val_loss: 0.4432 - val_accuracy: 0.7975\n",
      "Epoch 7/100\n",
      "128/128 [==============================] - 1s 4ms/step - loss: 0.4367 - accuracy: 0.8022 - val_loss: 0.4373 - val_accuracy: 0.8125\n",
      "Epoch 8/100\n",
      "128/128 [==============================] - 0s 3ms/step - loss: 0.4311 - accuracy: 0.8098 - val_loss: 0.4337 - val_accuracy: 0.8131\n",
      "Epoch 9/100\n",
      "128/128 [==============================] - 0s 4ms/step - loss: 0.4275 - accuracy: 0.8114 - val_loss: 0.4315 - val_accuracy: 0.8144\n",
      "Epoch 10/100\n",
      "128/128 [==============================] - 0s 3ms/step - loss: 0.4249 - accuracy: 0.8123 - val_loss: 0.4300 - val_accuracy: 0.8131\n",
      "Epoch 11/100\n",
      "128/128 [==============================] - 0s 3ms/step - loss: 0.4232 - accuracy: 0.8145 - val_loss: 0.4287 - val_accuracy: 0.8094\n",
      "Epoch 12/100\n",
      "128/128 [==============================] - 0s 4ms/step - loss: 0.4216 - accuracy: 0.8142 - val_loss: 0.4274 - val_accuracy: 0.8100\n",
      "Epoch 13/100\n",
      "128/128 [==============================] - 0s 3ms/step - loss: 0.4204 - accuracy: 0.8153 - val_loss: 0.4259 - val_accuracy: 0.8106\n",
      "Epoch 14/100\n",
      "128/128 [==============================] - 0s 4ms/step - loss: 0.4187 - accuracy: 0.8180 - val_loss: 0.4243 - val_accuracy: 0.8169\n",
      "Epoch 15/100\n",
      "128/128 [==============================] - 0s 4ms/step - loss: 0.4174 - accuracy: 0.8188 - val_loss: 0.4230 - val_accuracy: 0.8188\n",
      "Epoch 16/100\n",
      "128/128 [==============================] - 0s 3ms/step - loss: 0.4158 - accuracy: 0.8208 - val_loss: 0.4211 - val_accuracy: 0.8194\n",
      "Epoch 17/100\n",
      "128/128 [==============================] - 0s 4ms/step - loss: 0.4142 - accuracy: 0.8239 - val_loss: 0.4195 - val_accuracy: 0.8231\n",
      "Epoch 18/100\n",
      "128/128 [==============================] - 0s 3ms/step - loss: 0.4125 - accuracy: 0.8245 - val_loss: 0.4177 - val_accuracy: 0.8231\n",
      "Epoch 19/100\n",
      "128/128 [==============================] - 0s 3ms/step - loss: 0.4109 - accuracy: 0.8275 - val_loss: 0.4159 - val_accuracy: 0.8250\n",
      "Epoch 20/100\n",
      "128/128 [==============================] - 0s 3ms/step - loss: 0.4090 - accuracy: 0.8291 - val_loss: 0.4143 - val_accuracy: 0.8256\n",
      "Epoch 21/100\n",
      "128/128 [==============================] - 0s 3ms/step - loss: 0.4072 - accuracy: 0.8325 - val_loss: 0.4131 - val_accuracy: 0.8263\n",
      "Epoch 22/100\n",
      "128/128 [==============================] - 0s 3ms/step - loss: 0.4057 - accuracy: 0.8305 - val_loss: 0.4103 - val_accuracy: 0.8300\n",
      "Epoch 23/100\n",
      "128/128 [==============================] - 0s 4ms/step - loss: 0.4036 - accuracy: 0.8347 - val_loss: 0.4084 - val_accuracy: 0.8313\n",
      "Epoch 24/100\n",
      "128/128 [==============================] - 0s 4ms/step - loss: 0.4019 - accuracy: 0.8345 - val_loss: 0.4064 - val_accuracy: 0.8331\n",
      "Epoch 25/100\n",
      "128/128 [==============================] - 0s 3ms/step - loss: 0.4000 - accuracy: 0.8348 - val_loss: 0.4045 - val_accuracy: 0.8344\n",
      "Epoch 26/100\n",
      "128/128 [==============================] - 0s 4ms/step - loss: 0.3982 - accuracy: 0.8358 - val_loss: 0.4026 - val_accuracy: 0.8350\n",
      "Epoch 27/100\n",
      "128/128 [==============================] - 0s 3ms/step - loss: 0.3962 - accuracy: 0.8380 - val_loss: 0.4008 - val_accuracy: 0.8369\n",
      "Epoch 28/100\n",
      "128/128 [==============================] - 0s 3ms/step - loss: 0.3942 - accuracy: 0.8386 - val_loss: 0.3990 - val_accuracy: 0.8381\n",
      "Epoch 29/100\n",
      "128/128 [==============================] - 0s 4ms/step - loss: 0.3925 - accuracy: 0.8394 - val_loss: 0.3973 - val_accuracy: 0.8388\n",
      "Epoch 30/100\n",
      "128/128 [==============================] - 0s 3ms/step - loss: 0.3907 - accuracy: 0.8402 - val_loss: 0.3955 - val_accuracy: 0.8388\n",
      "Epoch 31/100\n",
      "128/128 [==============================] - 0s 4ms/step - loss: 0.3891 - accuracy: 0.8411 - val_loss: 0.3938 - val_accuracy: 0.8400\n",
      "Epoch 32/100\n",
      "128/128 [==============================] - 0s 4ms/step - loss: 0.3873 - accuracy: 0.8416 - val_loss: 0.3924 - val_accuracy: 0.8394\n",
      "Epoch 33/100\n",
      "128/128 [==============================] - 0s 4ms/step - loss: 0.3857 - accuracy: 0.8416 - val_loss: 0.3907 - val_accuracy: 0.8400\n",
      "Epoch 34/100\n",
      "128/128 [==============================] - 0s 3ms/step - loss: 0.3838 - accuracy: 0.8438 - val_loss: 0.3893 - val_accuracy: 0.8413\n",
      "Epoch 35/100\n",
      "128/128 [==============================] - 0s 4ms/step - loss: 0.3820 - accuracy: 0.8441 - val_loss: 0.3880 - val_accuracy: 0.8438\n",
      "Epoch 36/100\n",
      "128/128 [==============================] - 0s 3ms/step - loss: 0.3805 - accuracy: 0.8447 - val_loss: 0.3864 - val_accuracy: 0.8425\n",
      "Epoch 37/100\n",
      "128/128 [==============================] - 0s 3ms/step - loss: 0.3788 - accuracy: 0.8458 - val_loss: 0.3849 - val_accuracy: 0.8444\n",
      "Epoch 38/100\n",
      "128/128 [==============================] - 0s 3ms/step - loss: 0.3772 - accuracy: 0.8445 - val_loss: 0.3835 - val_accuracy: 0.8456\n",
      "Epoch 39/100\n",
      "128/128 [==============================] - 0s 3ms/step - loss: 0.3756 - accuracy: 0.8462 - val_loss: 0.3822 - val_accuracy: 0.8456\n",
      "Epoch 40/100\n",
      "128/128 [==============================] - 0s 3ms/step - loss: 0.3740 - accuracy: 0.8487 - val_loss: 0.3808 - val_accuracy: 0.8462\n",
      "Epoch 41/100\n",
      "128/128 [==============================] - 0s 4ms/step - loss: 0.3725 - accuracy: 0.8478 - val_loss: 0.3797 - val_accuracy: 0.8456\n",
      "Epoch 42/100\n",
      "128/128 [==============================] - 0s 4ms/step - loss: 0.3708 - accuracy: 0.8483 - val_loss: 0.3782 - val_accuracy: 0.8462\n",
      "Epoch 43/100\n",
      "128/128 [==============================] - 0s 3ms/step - loss: 0.3693 - accuracy: 0.8495 - val_loss: 0.3772 - val_accuracy: 0.8456\n",
      "Epoch 44/100\n",
      "128/128 [==============================] - 0s 4ms/step - loss: 0.3678 - accuracy: 0.8508 - val_loss: 0.3758 - val_accuracy: 0.8469\n",
      "Epoch 45/100\n",
      "128/128 [==============================] - 0s 3ms/step - loss: 0.3665 - accuracy: 0.8509 - val_loss: 0.3750 - val_accuracy: 0.8469\n",
      "Epoch 46/100\n",
      "128/128 [==============================] - 0s 4ms/step - loss: 0.3654 - accuracy: 0.8509 - val_loss: 0.3736 - val_accuracy: 0.8481\n",
      "Epoch 47/100\n",
      "128/128 [==============================] - 0s 3ms/step - loss: 0.3639 - accuracy: 0.8519 - val_loss: 0.3724 - val_accuracy: 0.8475\n",
      "Epoch 48/100\n",
      "128/128 [==============================] - 0s 4ms/step - loss: 0.3627 - accuracy: 0.8522 - val_loss: 0.3718 - val_accuracy: 0.8475\n",
      "Epoch 49/100\n",
      "128/128 [==============================] - 0s 4ms/step - loss: 0.3614 - accuracy: 0.8519 - val_loss: 0.3707 - val_accuracy: 0.8500\n",
      "Epoch 50/100\n",
      "128/128 [==============================] - 0s 3ms/step - loss: 0.3602 - accuracy: 0.8533 - val_loss: 0.3699 - val_accuracy: 0.8494\n",
      "Epoch 51/100\n",
      "128/128 [==============================] - 0s 4ms/step - loss: 0.3593 - accuracy: 0.8552 - val_loss: 0.3690 - val_accuracy: 0.8487\n",
      "Epoch 52/100\n",
      "128/128 [==============================] - 0s 3ms/step - loss: 0.3580 - accuracy: 0.8547 - val_loss: 0.3682 - val_accuracy: 0.8500\n",
      "Epoch 53/100\n",
      "128/128 [==============================] - 0s 3ms/step - loss: 0.3572 - accuracy: 0.8558 - val_loss: 0.3676 - val_accuracy: 0.8500\n",
      "Epoch 54/100\n",
      "128/128 [==============================] - 0s 3ms/step - loss: 0.3563 - accuracy: 0.8564 - val_loss: 0.3671 - val_accuracy: 0.8494\n",
      "Epoch 55/100\n",
      "128/128 [==============================] - 0s 4ms/step - loss: 0.3554 - accuracy: 0.8555 - val_loss: 0.3667 - val_accuracy: 0.8506\n",
      "Epoch 56/100\n",
      "128/128 [==============================] - 0s 3ms/step - loss: 0.3546 - accuracy: 0.8577 - val_loss: 0.3669 - val_accuracy: 0.8481\n",
      "Epoch 57/100\n",
      "128/128 [==============================] - 0s 3ms/step - loss: 0.3536 - accuracy: 0.8580 - val_loss: 0.3652 - val_accuracy: 0.8525\n",
      "Epoch 58/100\n",
      "128/128 [==============================] - 0s 3ms/step - loss: 0.3529 - accuracy: 0.8592 - val_loss: 0.3661 - val_accuracy: 0.8487\n",
      "Epoch 59/100\n",
      "128/128 [==============================] - 0s 4ms/step - loss: 0.3521 - accuracy: 0.8584 - val_loss: 0.3641 - val_accuracy: 0.8519\n",
      "Epoch 60/100\n",
      "128/128 [==============================] - 0s 4ms/step - loss: 0.3511 - accuracy: 0.8589 - val_loss: 0.3666 - val_accuracy: 0.8481\n",
      "Epoch 61/100\n",
      "128/128 [==============================] - 0s 3ms/step - loss: 0.3509 - accuracy: 0.8595 - val_loss: 0.3644 - val_accuracy: 0.8519\n",
      "Epoch 62/100\n",
      "128/128 [==============================] - 0s 3ms/step - loss: 0.3500 - accuracy: 0.8586 - val_loss: 0.3633 - val_accuracy: 0.8519\n",
      "Epoch 63/100\n",
      "128/128 [==============================] - 0s 3ms/step - loss: 0.3496 - accuracy: 0.8602 - val_loss: 0.3623 - val_accuracy: 0.8519\n",
      "Epoch 64/100\n",
      "128/128 [==============================] - 0s 3ms/step - loss: 0.3487 - accuracy: 0.8606 - val_loss: 0.3629 - val_accuracy: 0.8525\n",
      "Epoch 65/100\n",
      "128/128 [==============================] - 0s 3ms/step - loss: 0.3480 - accuracy: 0.8606 - val_loss: 0.3615 - val_accuracy: 0.8512\n",
      "Epoch 66/100\n",
      "128/128 [==============================] - 0s 3ms/step - loss: 0.3473 - accuracy: 0.8589 - val_loss: 0.3631 - val_accuracy: 0.8519\n",
      "Epoch 67/100\n",
      "128/128 [==============================] - 0s 3ms/step - loss: 0.3468 - accuracy: 0.8609 - val_loss: 0.3605 - val_accuracy: 0.8494\n",
      "Epoch 68/100\n",
      "128/128 [==============================] - 0s 3ms/step - loss: 0.3463 - accuracy: 0.8617 - val_loss: 0.3611 - val_accuracy: 0.8494\n",
      "Epoch 69/100\n",
      "128/128 [==============================] - 0s 3ms/step - loss: 0.3460 - accuracy: 0.8617 - val_loss: 0.3598 - val_accuracy: 0.8500\n",
      "Epoch 70/100\n",
      "128/128 [==============================] - 0s 3ms/step - loss: 0.3454 - accuracy: 0.8617 - val_loss: 0.3601 - val_accuracy: 0.8494\n",
      "Epoch 71/100\n",
      "128/128 [==============================] - 0s 3ms/step - loss: 0.3444 - accuracy: 0.8620 - val_loss: 0.3594 - val_accuracy: 0.8512\n",
      "Epoch 72/100\n",
      "128/128 [==============================] - 0s 3ms/step - loss: 0.3443 - accuracy: 0.8620 - val_loss: 0.3594 - val_accuracy: 0.8494\n",
      "Epoch 73/100\n",
      "128/128 [==============================] - 0s 3ms/step - loss: 0.3439 - accuracy: 0.8620 - val_loss: 0.3587 - val_accuracy: 0.8487\n",
      "Epoch 74/100\n",
      "128/128 [==============================] - 0s 3ms/step - loss: 0.3436 - accuracy: 0.8614 - val_loss: 0.3601 - val_accuracy: 0.8494\n",
      "Epoch 75/100\n",
      "128/128 [==============================] - 0s 3ms/step - loss: 0.3431 - accuracy: 0.8609 - val_loss: 0.3578 - val_accuracy: 0.8506\n",
      "Epoch 76/100\n",
      "128/128 [==============================] - 0s 3ms/step - loss: 0.3425 - accuracy: 0.8620 - val_loss: 0.3575 - val_accuracy: 0.8494\n",
      "Epoch 77/100\n",
      "128/128 [==============================] - 0s 3ms/step - loss: 0.3421 - accuracy: 0.8623 - val_loss: 0.3576 - val_accuracy: 0.8481\n",
      "Epoch 78/100\n",
      "128/128 [==============================] - 0s 3ms/step - loss: 0.3419 - accuracy: 0.8623 - val_loss: 0.3570 - val_accuracy: 0.8500\n",
      "Epoch 79/100\n",
      "128/128 [==============================] - 0s 3ms/step - loss: 0.3417 - accuracy: 0.8614 - val_loss: 0.3579 - val_accuracy: 0.8487\n",
      "Epoch 80/100\n",
      "128/128 [==============================] - 0s 3ms/step - loss: 0.3410 - accuracy: 0.8622 - val_loss: 0.3573 - val_accuracy: 0.8481\n",
      "Epoch 81/100\n",
      "128/128 [==============================] - 0s 2ms/step - loss: 0.3407 - accuracy: 0.8630 - val_loss: 0.3563 - val_accuracy: 0.8512\n",
      "Epoch 82/100\n",
      "128/128 [==============================] - 0s 3ms/step - loss: 0.3404 - accuracy: 0.8625 - val_loss: 0.3569 - val_accuracy: 0.8481\n",
      "Epoch 83/100\n",
      "128/128 [==============================] - 0s 3ms/step - loss: 0.3400 - accuracy: 0.8620 - val_loss: 0.3560 - val_accuracy: 0.8506\n",
      "Epoch 84/100\n",
      "128/128 [==============================] - 0s 4ms/step - loss: 0.3395 - accuracy: 0.8622 - val_loss: 0.3556 - val_accuracy: 0.8506\n",
      "Epoch 85/100\n",
      "128/128 [==============================] - 0s 3ms/step - loss: 0.3394 - accuracy: 0.8639 - val_loss: 0.3551 - val_accuracy: 0.8512\n",
      "Epoch 86/100\n",
      "128/128 [==============================] - 0s 3ms/step - loss: 0.3390 - accuracy: 0.8637 - val_loss: 0.3551 - val_accuracy: 0.8519\n",
      "Epoch 87/100\n",
      "128/128 [==============================] - 0s 4ms/step - loss: 0.3388 - accuracy: 0.8633 - val_loss: 0.3546 - val_accuracy: 0.8506\n",
      "Epoch 88/100\n",
      "128/128 [==============================] - 0s 3ms/step - loss: 0.3382 - accuracy: 0.8639 - val_loss: 0.3557 - val_accuracy: 0.8500\n",
      "Epoch 89/100\n",
      "128/128 [==============================] - 0s 3ms/step - loss: 0.3382 - accuracy: 0.8641 - val_loss: 0.3547 - val_accuracy: 0.8544\n",
      "Epoch 90/100\n",
      "128/128 [==============================] - 0s 3ms/step - loss: 0.3382 - accuracy: 0.8631 - val_loss: 0.3539 - val_accuracy: 0.8537\n",
      "Epoch 91/100\n",
      "128/128 [==============================] - 0s 3ms/step - loss: 0.3374 - accuracy: 0.8642 - val_loss: 0.3543 - val_accuracy: 0.8519\n",
      "Epoch 92/100\n",
      "128/128 [==============================] - 0s 3ms/step - loss: 0.3376 - accuracy: 0.8631 - val_loss: 0.3542 - val_accuracy: 0.8519\n",
      "Epoch 93/100\n",
      "128/128 [==============================] - 0s 4ms/step - loss: 0.3371 - accuracy: 0.8631 - val_loss: 0.3536 - val_accuracy: 0.8544\n",
      "Epoch 94/100\n",
      "128/128 [==============================] - 0s 3ms/step - loss: 0.3369 - accuracy: 0.8641 - val_loss: 0.3533 - val_accuracy: 0.8525\n",
      "Epoch 95/100\n",
      "128/128 [==============================] - 0s 4ms/step - loss: 0.3366 - accuracy: 0.8650 - val_loss: 0.3535 - val_accuracy: 0.8525\n",
      "Epoch 96/100\n",
      "128/128 [==============================] - 0s 3ms/step - loss: 0.3361 - accuracy: 0.8639 - val_loss: 0.3540 - val_accuracy: 0.8519\n",
      "Epoch 97/100\n",
      "128/128 [==============================] - 0s 3ms/step - loss: 0.3357 - accuracy: 0.8630 - val_loss: 0.3524 - val_accuracy: 0.8569\n",
      "Epoch 98/100\n",
      "128/128 [==============================] - 0s 3ms/step - loss: 0.3357 - accuracy: 0.8642 - val_loss: 0.3538 - val_accuracy: 0.8519\n",
      "Epoch 99/100\n",
      "128/128 [==============================] - 0s 3ms/step - loss: 0.3357 - accuracy: 0.8652 - val_loss: 0.3522 - val_accuracy: 0.8544\n",
      "Epoch 100/100\n",
      "128/128 [==============================] - 0s 3ms/step - loss: 0.3353 - accuracy: 0.8642 - val_loss: 0.3518 - val_accuracy: 0.8531\n"
     ]
    }
   ],
   "source": [
    "history = model.fit(X_train_trf,y_train,batch_size=50,epochs=100,verbose=1,validation_split=0.2)"
   ]
  },
  {
   "cell_type": "code",
   "execution_count": 19,
   "id": "d9dbbfe2-47cb-4038-8951-8fce2463529c",
   "metadata": {},
   "outputs": [
    {
     "name": "stdout",
     "output_type": "stream",
     "text": [
      "63/63 [==============================] - 0s 1ms/step\n"
     ]
    }
   ],
   "source": [
    "y_pred = model.predict(X_test_trf)"
   ]
  },
  {
   "cell_type": "code",
   "execution_count": 20,
   "id": "8b72cdf8-4b25-4fbe-b17c-a086fe2c4c44",
   "metadata": {},
   "outputs": [
    {
     "data": {
      "text/plain": [
       "array([[0.21215613],\n",
       "       [0.34495845],\n",
       "       [0.16510852],\n",
       "       ...,\n",
       "       [0.06914572],\n",
       "       [0.10711125],\n",
       "       [0.21188673]], dtype=float32)"
      ]
     },
     "execution_count": 20,
     "metadata": {},
     "output_type": "execute_result"
    }
   ],
   "source": [
    "y_pred"
   ]
  },
  {
   "cell_type": "code",
   "execution_count": 21,
   "id": "a354015f-b83e-43e1-ab06-46ac4bc15460",
   "metadata": {},
   "outputs": [
    {
     "data": {
      "text/plain": [
       "array([0, 0, 0, ..., 0, 0, 0], dtype=int64)"
      ]
     },
     "execution_count": 21,
     "metadata": {},
     "output_type": "execute_result"
    }
   ],
   "source": [
    "y_pred = y_pred.argmax(axis=-1)\n",
    "y_pred"
   ]
  },
  {
   "cell_type": "code",
   "execution_count": 22,
   "id": "2eb3c55b-f826-41b6-8fcd-0228bf4047f1",
   "metadata": {},
   "outputs": [
    {
     "data": {
      "text/plain": [
       "0.7975"
      ]
     },
     "execution_count": 22,
     "metadata": {},
     "output_type": "execute_result"
    }
   ],
   "source": [
    "from sklearn.metrics import accuracy_score\n",
    "accuracy_score(y_test,y_pred)"
   ]
  },
  {
   "cell_type": "code",
   "execution_count": 23,
   "id": "b0e3fe5a-5dd9-4679-b29f-f28f34a57795",
   "metadata": {},
   "outputs": [],
   "source": [
    "import matplotlib.pyplot as plt"
   ]
  },
  {
   "cell_type": "code",
   "execution_count": 24,
   "id": "9ce0a8bd-32ff-42e5-98fc-9e277717ee35",
   "metadata": {},
   "outputs": [
    {
     "data": {
      "text/plain": [
       "[<matplotlib.lines.Line2D at 0x1ba36b9e710>]"
      ]
     },
     "execution_count": 24,
     "metadata": {},
     "output_type": "execute_result"
    },
    {
     "data": {
      "image/png": "[encoded data removed]",
      "text/plain": [
       "<Figure size 640x480 with 1 Axes>"
      ]
     },
     "metadata": {},
     "output_type": "display_data"
    }
   ],
   "source": [
    "plt.plot(history.history['loss'])\n",
    "plt.plot(history.history['val_loss'])"
   ]
  },
  {
   "cell_type": "code",
   "execution_count": 25,
   "id": "7489cfee-5bff-4034-b01c-853e28ffdd1b",
   "metadata": {},
   "outputs": [
    {
     "data": {
      "text/plain": [
       "[<matplotlib.lines.Line2D at 0x1ba36bc3310>]"
      ]
     },
     "execution_count": 25,
     "metadata": {},
     "output_type": "execute_result"
    },
    {
     "data": {
      "image/png": "[encoded data removed]",
      "text/plain": [
       "<Figure size 640x480 with 1 Axes>"
      ]
     },
     "metadata": {},
     "output_type": "display_data"
    }
   ],
   "source": [
    "plt.plot(history.history['accuracy'])\n",
    "plt.plot(history.history['val_accuracy'])"
   ]
  },
  {
   "cell_type": "code",
   "execution_count": null,
   "id": "2483a740-0648-4771-9f9e-e04d99537e92",
   "metadata": {},
   "outputs": [],
   "source": []
  }
 ],
 "metadata": {
  "kernelspec": {
   "display_name": "Python 3 (ipykernel)",
   "language": "python",
   "name": "python3"
  },
  "language_info": {
   "codemirror_mode": {
    "name": "ipython",
    "version": 3
   },
   "file_extension": ".py",
   "mimetype": "text/x-python",
   "name": "python",
   "nbconvert_exporter": "python",
   "pygments_lexer": "ipython3",
   "version": "3.11.0"
  }
 },
 "nbformat": 4,
 "nbformat_minor": 5
}
